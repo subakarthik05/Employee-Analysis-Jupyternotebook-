{
 "cells": [
  {
   "cell_type": "code",
   "execution_count": 2,
   "id": "3d518666-c185-4f67-99e9-3c3dda04b6a3",
   "metadata": {},
   "outputs": [
    {
     "data": {
      "text/plain": [
       "['EMP_001',\n",
       " 'EMP_002',\n",
       " 'EMP_003',\n",
       " 'EMP_004',\n",
       " 'EMP_005',\n",
       " 'EMP_006',\n",
       " 'EMP_007',\n",
       " 'EMP_008',\n",
       " 'EMP_009',\n",
       " 'EMP_010',\n",
       " 'EMP_011',\n",
       " 'EMP_012',\n",
       " 'EMP_013',\n",
       " 'EMP_014',\n",
       " 'EMP_015',\n",
       " 'EMP_016',\n",
       " 'EMP_017',\n",
       " 'EMP_018',\n",
       " 'EMP_019',\n",
       " 'EMP_020',\n",
       " 'EMP_021',\n",
       " 'EMP_022',\n",
       " 'EMP_023',\n",
       " 'EMP_024',\n",
       " 'EMP_025',\n",
       " 'EMP_026',\n",
       " 'EMP_027',\n",
       " 'EMP_028',\n",
       " 'EMP_029',\n",
       " 'EMP_030']"
      ]
     },
     "execution_count": 2,
     "metadata": {},
     "output_type": "execute_result"
    }
   ],
   "source": [
    "import numpy as np\n",
    "import pandas as pd\n",
    "#%%\n",
    "np.random.seed(42)\n",
    "#%%\n",
    "employee_ids=[f\"EMP_{i:03d}\" for i in range(1,31)]\n",
    "dates=pd.date_range(\"2025-07-01\",periods=30,freq=\"D\")\n",
    "employee_ids"
   ]
  },
  {
   "cell_type": "code",
   "execution_count": 3,
   "id": "635d5344-dcdb-4ec2-90e5-88e565e48c94",
   "metadata": {},
   "outputs": [],
   "source": [
    "data={\n",
    "    \"Date\":np.tile(dates,len(employee_ids)),\n",
    "    \"Employee_ID\":np.repeat(employee_ids,len(dates)),\n",
    "    \"Working_Hours\":np.random.normal(4,10,size=len(dates)*len(employee_ids)).round(2)\n",
    "}"
   ]
  },
  {
   "cell_type": "code",
   "execution_count": 4,
   "id": "f39a8b7f-60b3-4b13-ba87-9430ca946f0f",
   "metadata": {},
   "outputs": [],
   "source": [
    "df = pd.DataFrame(data)"
   ]
  },
  {
   "cell_type": "code",
   "execution_count": 5,
   "id": "8fefc1ee-dff1-4e21-b4c1-644daab66ce8",
   "metadata": {},
   "outputs": [],
   "source": [
    "df.to_csv(\"employee_working_hours.csv\", index=False)"
   ]
  },
  {
   "cell_type": "code",
   "execution_count": 7,
   "id": "d6aec87c-ba93-41e8-a987-0e88b32cab79",
   "metadata": {},
   "outputs": [],
   "source": [
    "df_csv=pd.read_csv(\"employee_working_hours.csv\")"
   ]
  },
  {
   "cell_type": "code",
   "execution_count": 8,
   "id": "4215d8e5-a76e-4d58-a09f-be7f2b3b9f62",
   "metadata": {},
   "outputs": [
    {
     "name": "stdout",
     "output_type": "stream",
     "text": [
      "         Date Employee_ID  Working_Hours\n",
      "0  2025-07-01     EMP_001           8.97\n",
      "1  2025-07-02     EMP_001           2.62\n",
      "2  2025-07-03     EMP_001          10.48\n",
      "3  2025-07-04     EMP_001          19.23\n",
      "4  2025-07-05     EMP_001           1.66\n",
      "       Working_Hours\n",
      "count     900.000000\n",
      "mean        4.183811\n",
      "std         9.809092\n",
      "min       -28.410000\n",
      "25%        -2.512500\n",
      "50%         4.180000\n",
      "75%        10.495000\n",
      "max        42.530000\n",
      "['EMP_001' 'EMP_002' 'EMP_003' 'EMP_004' 'EMP_005' 'EMP_006' 'EMP_007'\n",
      " 'EMP_008' 'EMP_009' 'EMP_010' 'EMP_011' 'EMP_012' 'EMP_013' 'EMP_014'\n",
      " 'EMP_015' 'EMP_016' 'EMP_017' 'EMP_018' 'EMP_019' 'EMP_020' 'EMP_021'\n",
      " 'EMP_022' 'EMP_023' 'EMP_024' 'EMP_025' 'EMP_026' 'EMP_027' 'EMP_028'\n",
      " 'EMP_029' 'EMP_030']\n"
     ]
    }
   ],
   "source": [
    "print(df_csv.head())\n",
    "print(df_csv.describe())\n",
    "print(df_csv[\"Employee_ID\"].unique())"
   ]
  },
  {
   "cell_type": "code",
   "execution_count": 9,
   "id": "aaa121f0-ffb4-49fa-a91f-6c4ca4a063ff",
   "metadata": {},
   "outputs": [
    {
     "data": {
      "text/plain": [
       "Employee_ID\n",
       "EMP_030    245.24\n",
       "EMP_021    219.41\n",
       "EMP_011    204.55\n",
       "EMP_006    203.63\n",
       "EMP_013    188.45\n",
       "EMP_029    183.81\n",
       "EMP_026    177.58\n",
       "EMP_028    165.44\n",
       "EMP_010    152.15\n",
       "EMP_020    146.33\n",
       "EMP_007    139.66\n",
       "EMP_008    134.41\n",
       "EMP_016    133.97\n",
       "EMP_014    128.64\n",
       "EMP_027    127.59\n",
       "EMP_003    123.87\n",
       "EMP_004    113.92\n",
       "EMP_024    108.58\n",
       "EMP_015    102.81\n",
       "EMP_019     93.15\n",
       "EMP_005     91.55\n",
       "EMP_002     83.64\n",
       "EMP_023     80.96\n",
       "EMP_022     79.38\n",
       "EMP_009     76.96\n",
       "EMP_001     63.58\n",
       "EMP_017     60.62\n",
       "EMP_025     58.56\n",
       "EMP_012     58.06\n",
       "EMP_018     18.93\n",
       "Name: Working_Hours, dtype: float64"
      ]
     },
     "execution_count": 9,
     "metadata": {},
     "output_type": "execute_result"
    }
   ],
   "source": [
    "total_hours =df_csv.groupby(\"Employee_ID\")[\"Working_Hours\"].sum().sort_values(ascending=False)\n",
    "total_hours "
   ]
  },
  {
   "cell_type": "code",
   "execution_count": 10,
   "id": "acaa2f66-743c-4bf0-8245-21aef663ef76",
   "metadata": {},
   "outputs": [],
   "source": [
    "avg_daily=df_csv.groupby(\"Employee_ID\")[\"Working_Hours\"].mean()"
   ]
  },
  {
   "cell_type": "code",
   "execution_count": 11,
   "id": "bde44481-1ec6-41fd-b731-9597dcbab736",
   "metadata": {},
   "outputs": [
    {
     "name": "stdout",
     "output_type": "stream",
     "text": [
      "         Date Employee_ID  Working_Hours  Low_Hour_Flag  High_Hour_Flag\n",
      "0  2025-07-01     EMP_001           8.97           True            True\n",
      "1  2025-07-02     EMP_001           2.62          False            True\n",
      "2  2025-07-03     EMP_001          10.48           True           False\n",
      "3  2025-07-04     EMP_001          19.23           True           False\n",
      "4  2025-07-05     EMP_001           1.66          False            True\n"
     ]
    }
   ],
   "source": [
    "threshold_low=5\n",
    "threshold_high=9\n",
    "df_csv[\"Low_Hour_Flag\"]=df_csv[\"Working_Hours\"]>=threshold_low\n",
    "df_csv[\"High_Hour_Flag\"]=df_csv[\"Working_Hours\"]<=threshold_high\n",
    "print(df_csv[df_csv[\"Low_Hour_Flag\"]|df_csv[\"High_Hour_Flag\"]].head())"
   ]
  },
  {
   "cell_type": "code",
   "execution_count": 13,
   "id": "b21b0c65-55eb-4feb-8e13-3a3c55413d8b",
   "metadata": {},
   "outputs": [
    {
     "data": {
      "image/png": "[encoded data removed]",
      "text/plain": [
       "<Figure size 1000x500 with 1 Axes>"
      ]
     },
     "metadata": {},
     "output_type": "display_data"
    }
   ],
   "source": [
    "import matplotlib.pyplot as plt\n",
    "import seaborn as sns\n",
    "top10 = total_hours.head(10)\n",
    "plt.figure(figsize=(10,5))\n",
    "sns.barplot(x=top10.index, y=top10.values)\n",
    "plt.xticks(rotation=45)\n",
    "plt.title(\"Top 10 Employees by Total working hours\")\n",
    "plt.ylabel(\"Hours\")\n",
    "plt.tight_layout()\n",
    "plt.show()"
   ]
  },
  {
   "cell_type": "code",
   "execution_count": null,
   "id": "3eaf8f23-f349-4618-9c73-9e7edfd0cfaf",
   "metadata": {},
   "outputs": [],
   "source": []
  }
 ],
 "metadata": {
  "kernelspec": {
   "display_name": "Python 3 (ipykernel)",
   "language": "python",
   "name": "python3"
  },
  "language_info": {
   "codemirror_mode": {
    "name": "ipython",
    "version": 3
   },
   "file_extension": ".py",
   "mimetype": "text/x-python",
   "name": "python",
   "nbconvert_exporter": "python",
   "pygments_lexer": "ipython3",
   "version": "3.13.5"
  }
 },
 "nbformat": 4,
 "nbformat_minor": 5
}
